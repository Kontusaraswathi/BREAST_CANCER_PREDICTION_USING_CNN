{
 "cells": [
  {
   "cell_type": "code",
   "execution_count": 1,
   "id": "a658f1be-9ba0-4d2d-a84e-3c1169877992",
   "metadata": {},
   "outputs": [],
   "source": [
    "import pandas as pd\n",
    "import tensorflow as tf\n",
    "from tensorflow.keras.layers import Conv2D,MaxPooling2D,Dense,Dropout,Flatten\n",
    "from tensorflow.keras.preprocessing.image import ImageDataGenerator,load_img,img_to_array\n",
    "from tensorflow import keras\n"
   ]
  },
  {
   "cell_type": "code",
   "execution_count": 8,
   "id": "3b40b55a-44ad-441b-882d-b99556c26f7a",
   "metadata": {},
   "outputs": [],
   "source": [
    "train_dir=\"D:\\\\AI\\\\Deep_Learning\\\\breast_cancer_prediction\\\\Dataset_BUSI_with_GT\""
   ]
  },
  {
   "cell_type": "code",
   "execution_count": null,
   "id": "90c76609-316c-4166-889e-f9f551dd7348",
   "metadata": {},
   "outputs": [],
   "source": []
  },
  {
   "cell_type": "code",
   "execution_count": null,
   "id": "ec74af14-d07e-4cdc-bdb1-4d8d26f91aa4",
   "metadata": {},
   "outputs": [],
   "source": []
  },
  {
   "cell_type": "code",
   "execution_count": 9,
   "id": "923a345f-b7d6-4e17-a451-ad0947e74352",
   "metadata": {},
   "outputs": [],
   "source": [
    "train_data=ImageDataGenerator(rescale=1.0/255.0)"
   ]
  },
  {
   "cell_type": "code",
   "execution_count": null,
   "id": "9ba138db-2411-40d4-8fd8-39a3cc2d75b7",
   "metadata": {},
   "outputs": [],
   "source": []
  },
  {
   "cell_type": "code",
   "execution_count": 10,
   "id": "5c230000-4bd5-4f28-8738-1923e85ceffc",
   "metadata": {},
   "outputs": [
    {
     "name": "stdout",
     "output_type": "stream",
     "text": [
      "Found 1578 images belonging to 3 classes.\n"
     ]
    }
   ],
   "source": [
    "train_data_generator=train_data.flow_from_directory(\n",
    "   train_dir,\n",
    "    target_size=(256,256),\n",
    "    batch_size=32,\n",
    "    class_mode=\"categorical\",\n",
    "    \n",
    ")\n",
    "# here we are dividing the images into 3 groups and normalizing the images we have"
   ]
  },
  {
   "cell_type": "code",
   "execution_count": null,
   "id": "2d3cd39e-a808-4b9b-8eb3-543ba603f0d4",
   "metadata": {},
   "outputs": [],
   "source": []
  },
  {
   "cell_type": "code",
   "execution_count": null,
   "id": "fb4081f5-3e39-4416-bf7c-2c751008acd4",
   "metadata": {},
   "outputs": [],
   "source": []
  },
  {
   "cell_type": "code",
   "execution_count": null,
   "id": "0bc14c3a-8704-4053-95c7-f64bc3372435",
   "metadata": {},
   "outputs": [],
   "source": []
  },
  {
   "cell_type": "code",
   "execution_count": 11,
   "id": "30fe14d4-fec3-4c36-b555-036e36aaa624",
   "metadata": {},
   "outputs": [
    {
     "name": "stderr",
     "output_type": "stream",
     "text": [
      "C:\\Users\\Dell\\AppData\\Local\\Programs\\Python\\Python311\\Lib\\site-packages\\keras\\src\\layers\\convolutional\\base_conv.py:107: UserWarning: Do not pass an `input_shape`/`input_dim` argument to a layer. When using Sequential models, prefer using an `Input(shape)` object as the first layer in the model instead.\n",
      "  super().__init__(activity_regularizer=activity_regularizer, **kwargs)\n"
     ]
    }
   ],
   "source": [
    "model=keras.Sequential([\n",
    "    Conv2D(32,(3,3),activation=\"relu\",input_shape=(256,256,3)),\n",
    "    MaxPooling2D(pool_size=(2,2)),\n",
    "    Conv2D(64,(3,3),activation=\"relu\"),\n",
    "    MaxPooling2D(pool_size=(2,2)),\n",
    "    Flatten(),\n",
    "    Dense(train_data_generator.num_classes,activation=\"softmax\"),\n",
    "])"
   ]
  },
  {
   "cell_type": "code",
   "execution_count": null,
   "id": "03703b53-96e7-43b6-824a-6a612191b7e4",
   "metadata": {},
   "outputs": [],
   "source": []
  },
  {
   "cell_type": "code",
   "execution_count": 12,
   "id": "9faa7e97-9f6f-46c1-a56c-1d76079150f7",
   "metadata": {},
   "outputs": [],
   "source": [
    "model.compile(optimizer=\"adam\",loss=\"categorical_crossentropy\",metrics=[\"accuracy\"])"
   ]
  },
  {
   "cell_type": "code",
   "execution_count": null,
   "id": "20e424d9-5920-4a3f-96e9-ffff18a30bdf",
   "metadata": {},
   "outputs": [],
   "source": []
  },
  {
   "cell_type": "code",
   "execution_count": 13,
   "id": "cf41fde6-57d0-4043-98c5-bfafcd48f29b",
   "metadata": {},
   "outputs": [
    {
     "name": "stdout",
     "output_type": "stream",
     "text": [
      "Epoch 1/5\n"
     ]
    },
    {
     "name": "stderr",
     "output_type": "stream",
     "text": [
      "C:\\Users\\Dell\\AppData\\Local\\Programs\\Python\\Python311\\Lib\\site-packages\\keras\\src\\trainers\\data_adapters\\py_dataset_adapter.py:121: UserWarning: Your `PyDataset` class should call `super().__init__(**kwargs)` in its constructor. `**kwargs` can include `workers`, `use_multiprocessing`, `max_queue_size`. Do not pass these arguments to `fit()`, as they will be ignored.\n",
      "  self._warn_if_super_not_called()\n"
     ]
    },
    {
     "name": "stdout",
     "output_type": "stream",
     "text": [
      "\u001b[1m50/50\u001b[0m \u001b[32m━━━━━━━━━━━━━━━━━━━━\u001b[0m\u001b[37m\u001b[0m \u001b[1m124s\u001b[0m 2s/step - accuracy: 0.5281 - loss: 1.3531\n",
      "Epoch 2/5\n",
      "\u001b[1m50/50\u001b[0m \u001b[32m━━━━━━━━━━━━━━━━━━━━\u001b[0m\u001b[37m\u001b[0m \u001b[1m110s\u001b[0m 2s/step - accuracy: 0.7726 - loss: 0.5621\n",
      "Epoch 3/5\n",
      "\u001b[1m50/50\u001b[0m \u001b[32m━━━━━━━━━━━━━━━━━━━━\u001b[0m\u001b[37m\u001b[0m \u001b[1m142s\u001b[0m 2s/step - accuracy: 0.8853 - loss: 0.3340\n",
      "Epoch 4/5\n",
      "\u001b[1m50/50\u001b[0m \u001b[32m━━━━━━━━━━━━━━━━━━━━\u001b[0m\u001b[37m\u001b[0m \u001b[1m88s\u001b[0m 2s/step - accuracy: 0.9525 - loss: 0.1534\n",
      "Epoch 5/5\n",
      "\u001b[1m50/50\u001b[0m \u001b[32m━━━━━━━━━━━━━━━━━━━━\u001b[0m\u001b[37m\u001b[0m \u001b[1m83s\u001b[0m 2s/step - accuracy: 0.9881 - loss: 0.0646\n"
     ]
    },
    {
     "data": {
      "text/plain": [
       "<keras.src.callbacks.history.History at 0x1410c69a790>"
      ]
     },
     "execution_count": 13,
     "metadata": {},
     "output_type": "execute_result"
    }
   ],
   "source": [
    "model.fit(train_data_generator,epochs=5,verbose=1)"
   ]
  },
  {
   "cell_type": "code",
   "execution_count": 16,
   "id": "faf22e0c-0e76-4543-9757-149a19b28527",
   "metadata": {},
   "outputs": [
    {
     "name": "stderr",
     "output_type": "stream",
     "text": [
      "WARNING:absl:You are saving your model as an HDF5 file via `model.save()` or `keras.saving.save_model(model)`. This file format is considered legacy. We recommend using instead the native Keras format, e.g. `model.save('my_model.keras')` or `keras.saving.save_model(model, 'my_model.keras')`. \n"
     ]
    }
   ],
   "source": [
    "model.save(\"breast_cancer_model.h5\")"
   ]
  },
  {
   "cell_type": "code",
   "execution_count": null,
   "id": "6c4dd807-d37d-4c0c-8894-b2c8ba15090f",
   "metadata": {},
   "outputs": [],
   "source": [
    "indices={\n",
    "    0:\"benign\",\n",
    "    1:\"malignant\",\n",
    "    2:\"normal\"\n",
    "}"
   ]
  },
  {
   "cell_type": "code",
   "execution_count": null,
   "id": "8ba269a2-6103-4cc8-be4d-52dfb9dce591",
   "metadata": {},
   "outputs": [],
   "source": []
  },
  {
   "cell_type": "code",
   "execution_count": null,
   "id": "cefd0ba6-6e0b-4556-9f7f-88faa24326e3",
   "metadata": {},
   "outputs": [],
   "source": [
    "img_path=\"D:\\\\malignant (1).png\""
   ]
  },
  {
   "cell_type": "code",
   "execution_count": null,
   "id": "619a5cd6-6920-4335-97d7-6fe152769b6f",
   "metadata": {},
   "outputs": [],
   "source": [
    "import numpy as np\n",
    "img=load_img(img_path,target_size=(256,256))\n",
    "img_array=img_to_array(img)/255.0\n",
    "img_array = np.expand_dims(img_array, axis=0)  "
   ]
  },
  {
   "cell_type": "code",
   "execution_count": null,
   "id": "016ee253-a13b-47bb-89bf-136984e5f996",
   "metadata": {},
   "outputs": [],
   "source": [
    "r=model.predict(img_array)\n",
    "predicted_index=np.argmax(r,axis=1)[0]\n",
    "label=indices[predicted_index]"
   ]
  },
  {
   "cell_type": "code",
   "execution_count": null,
   "id": "2f65567b-29a9-4826-8753-d41d30bf5553",
   "metadata": {},
   "outputs": [],
   "source": [
    "label"
   ]
  },
  {
   "cell_type": "code",
   "execution_count": null,
   "id": "16444d0e-fb0e-409d-afb1-68ad70bc1960",
   "metadata": {},
   "outputs": [],
   "source": []
  },
  {
   "cell_type": "code",
   "execution_count": null,
   "id": "3bd985d9-c3ca-4b67-863c-a75b8b59b34e",
   "metadata": {},
   "outputs": [],
   "source": []
  },
  {
   "cell_type": "code",
   "execution_count": null,
   "id": "5e780e3c-57d2-4ae6-bf5a-bc0d0b136e9b",
   "metadata": {},
   "outputs": [],
   "source": []
  },
  {
   "cell_type": "code",
   "execution_count": null,
   "id": "0701abc5-3292-4c3f-b852-bf235029d5af",
   "metadata": {},
   "outputs": [],
   "source": [
    "img_path=\"D:\\\\Deep_Learning\\\\breast_cancer_prediction\\\\Dataset_BUSI_with_GT\\\\benign\\\\benign (2).png\""
   ]
  },
  {
   "cell_type": "code",
   "execution_count": null,
   "id": "5faf130c-5362-47fb-82fd-00db9fa59f81",
   "metadata": {},
   "outputs": [],
   "source": [
    "import numpy as np\n",
    "img=load_img(img_path,target_size=(256,256))\n",
    "img_array=img_to_array(img)/255.0\n",
    "img_array = np.expand_dims(img_array, axis=0)  "
   ]
  },
  {
   "cell_type": "code",
   "execution_count": null,
   "id": "2bae01d0-30c7-4130-bf8b-0dc36c8b2180",
   "metadata": {},
   "outputs": [],
   "source": [
    "r=model.predict(img_array)\n",
    "predicted_index=np.argmax(r,axis=1)[0]\n",
    "label=indices[predicted_index]"
   ]
  },
  {
   "cell_type": "code",
   "execution_count": null,
   "id": "fa98c28d-4603-4ea1-8542-58500ccd1805",
   "metadata": {},
   "outputs": [],
   "source": [
    "label"
   ]
  },
  {
   "cell_type": "code",
   "execution_count": null,
   "id": "0f259ef6-4dd1-4201-85b4-4740b177d6b0",
   "metadata": {},
   "outputs": [],
   "source": []
  },
  {
   "cell_type": "code",
   "execution_count": null,
   "id": "94dc96f3-6f33-43a5-9942-b08b69fe03c5",
   "metadata": {},
   "outputs": [],
   "source": []
  },
  {
   "cell_type": "code",
   "execution_count": null,
   "id": "387910d8-59f2-44c0-b60a-b011dc40449b",
   "metadata": {},
   "outputs": [],
   "source": []
  },
  {
   "cell_type": "code",
   "execution_count": null,
   "id": "36daa4be-c759-4d64-9266-0e73d1e7da8b",
   "metadata": {},
   "outputs": [],
   "source": []
  },
  {
   "cell_type": "code",
   "execution_count": null,
   "id": "d0400a1f-f22c-4b07-b4b6-c6032bcbb324",
   "metadata": {},
   "outputs": [],
   "source": []
  },
  {
   "cell_type": "code",
   "execution_count": null,
   "id": "89ed1ce0-41d1-427c-a8db-ad50af98dd58",
   "metadata": {},
   "outputs": [],
   "source": []
  },
  {
   "cell_type": "code",
   "execution_count": null,
   "id": "47c15416-07ba-4c55-a1dc-0281c14e0916",
   "metadata": {},
   "outputs": [],
   "source": []
  },
  {
   "cell_type": "code",
   "execution_count": null,
   "id": "220b59f6-305c-4e1f-b9d4-3fc6053e608e",
   "metadata": {},
   "outputs": [],
   "source": []
  },
  {
   "cell_type": "code",
   "execution_count": null,
   "id": "b72990ce-47d9-4121-98bb-3df38ec8e3a1",
   "metadata": {},
   "outputs": [],
   "source": []
  },
  {
   "cell_type": "code",
   "execution_count": null,
   "id": "e6f850d8-f9f9-456f-ac4d-edaa7372ad6d",
   "metadata": {},
   "outputs": [],
   "source": []
  },
  {
   "cell_type": "code",
   "execution_count": null,
   "id": "fe4312d2-c4cc-4875-bfc0-94ffa26a8796",
   "metadata": {},
   "outputs": [],
   "source": []
  },
  {
   "cell_type": "code",
   "execution_count": null,
   "id": "55b98449-872d-45c8-875b-ba8252014e29",
   "metadata": {},
   "outputs": [],
   "source": []
  },
  {
   "cell_type": "code",
   "execution_count": null,
   "id": "210279e0-1915-437c-a953-383475e9e165",
   "metadata": {},
   "outputs": [],
   "source": []
  },
  {
   "cell_type": "code",
   "execution_count": null,
   "id": "ce6e30a4-b35a-4574-9b7a-44db7d9134f7",
   "metadata": {},
   "outputs": [],
   "source": []
  },
  {
   "cell_type": "code",
   "execution_count": null,
   "id": "c83cca89-3a27-4556-b950-80c1d3370ec7",
   "metadata": {},
   "outputs": [],
   "source": []
  },
  {
   "cell_type": "code",
   "execution_count": null,
   "id": "35a69f1c-9f91-4fdf-98e7-45400a58a9fc",
   "metadata": {},
   "outputs": [],
   "source": []
  },
  {
   "cell_type": "code",
   "execution_count": null,
   "id": "0f0aeb24-545c-43be-b03e-3444373f7b80",
   "metadata": {},
   "outputs": [],
   "source": []
  },
  {
   "cell_type": "code",
   "execution_count": null,
   "id": "beaad278-f7ee-4302-9343-0691f9e760cb",
   "metadata": {},
   "outputs": [],
   "source": []
  },
  {
   "cell_type": "code",
   "execution_count": null,
   "id": "9e73e3f0-0605-462d-8b2b-af4256a363df",
   "metadata": {},
   "outputs": [],
   "source": []
  },
  {
   "cell_type": "code",
   "execution_count": null,
   "id": "21e834fa-7c54-480e-a50f-663e693f72ca",
   "metadata": {},
   "outputs": [],
   "source": []
  },
  {
   "cell_type": "code",
   "execution_count": null,
   "id": "474cf550-1712-4a0f-bb67-b6b1dfc72084",
   "metadata": {},
   "outputs": [],
   "source": []
  },
  {
   "cell_type": "code",
   "execution_count": null,
   "id": "5507bfe8-caa9-432e-8bad-80d25e7bcc5c",
   "metadata": {},
   "outputs": [],
   "source": []
  },
  {
   "cell_type": "code",
   "execution_count": null,
   "id": "76e2f540-f9ff-4629-81df-49840849ae58",
   "metadata": {},
   "outputs": [],
   "source": []
  },
  {
   "cell_type": "code",
   "execution_count": null,
   "id": "19d6d558-8954-4967-abe3-254a883de614",
   "metadata": {},
   "outputs": [],
   "source": []
  },
  {
   "cell_type": "code",
   "execution_count": null,
   "id": "a7e4e398-1966-4e3f-ad17-f00001ce7c48",
   "metadata": {},
   "outputs": [],
   "source": []
  }
 ],
 "metadata": {
  "kernelspec": {
   "display_name": "Python 3 (ipykernel)",
   "language": "python",
   "name": "python3"
  },
  "language_info": {
   "codemirror_mode": {
    "name": "ipython",
    "version": 3
   },
   "file_extension": ".py",
   "mimetype": "text/x-python",
   "name": "python",
   "nbconvert_exporter": "python",
   "pygments_lexer": "ipython3",
   "version": "3.11.9"
  }
 },
 "nbformat": 4,
 "nbformat_minor": 5
}
