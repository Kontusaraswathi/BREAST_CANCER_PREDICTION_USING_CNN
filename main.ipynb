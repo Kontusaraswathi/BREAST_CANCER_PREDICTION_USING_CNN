{
 "cells": [
  {
   "cell_type": "code",
   "execution_count": 2,
   "id": "d0fc88aa-2a3b-45de-91f5-878001638aab",
   "metadata": {},
   "outputs": [
    {
     "name": "stderr",
     "output_type": "stream",
     "text": [
      "WARNING:absl:Compiled the loaded model, but the compiled metrics have yet to be built. `model.compile_metrics` will be empty until you train or evaluate the model.\n"
     ]
    },
    {
     "name": "stdout",
     "output_type": "stream",
     "text": [
      "\u001b[1m1/1\u001b[0m \u001b[32m━━━━━━━━━━━━━━━━━━━━\u001b[0m\u001b[37m\u001b[0m \u001b[1m0s\u001b[0m 107ms/step\n"
     ]
    }
   ],
   "source": [
    "import tkinter as tk\n",
    "from tkinter import filedialog\n",
    "from tkinter import messagebox\n",
    "from PIL import Image, ImageTk\n",
    "import tensorflow as tf\n",
    "import numpy as np\n",
    "\n",
    "# Load trained model\n",
    "model = tf.keras.models.load_model(\"breast_cancer_model.h5\")  # Ensure the model path is correct\n",
    "\n",
    "# Class labels (update according to your dataset)\n",
    "class_labels = [\"Benign\", \"Malignant\", \"Normal\"]\n",
    "\n",
    "def preprocess_image(image_path):\n",
    "    image = Image.open(image_path).resize((256, 256))\n",
    "    image = np.array(image) / 255.0  # Normalize\n",
    "    image = np.expand_dims(image, axis=0)  # Add batch dimension\n",
    "    return image\n",
    "\n",
    "def predict_image():\n",
    "    file_path = filedialog.askopenfilename(filetypes=[(\"Image Files\", \"*.png;*.jpg;*.jpeg\")])\n",
    "    if not file_path:\n",
    "        return\n",
    "    \n",
    "    image = preprocess_image(file_path)\n",
    "    prediction = model.predict(image)\n",
    "    predicted_class = class_labels[np.argmax(prediction)]\n",
    "    \n",
    "    # Display the selected image\n",
    "    img = Image.open(file_path)\n",
    "    img = img.resize((250, 250))\n",
    "    img = ImageTk.PhotoImage(img)\n",
    "    img_label.config(image=img)\n",
    "    img_label.image = img\n",
    "    \n",
    "    # Display prediction result\n",
    "    result_label.config(text=f\"Prediction: {predicted_class}\", fg=\"white\", font=(\"Arial\", 18, \"bold\"), bg=\"#1E1E1E\")\n",
    "\n",
    "def exit_app():\n",
    "    root.destroy()\n",
    "\n",
    "# GUI Setup\n",
    "root = tk.Tk()\n",
    "root.title(\"Breast Cancer Prediction\")\n",
    "root.geometry(\"600x700\")\n",
    "root.configure(bg=\"#1E1E1E\")\n",
    "\n",
    "title_label = tk.Label(root, text=\"Breast Cancer Prediction\", font=(\"Arial\", 24, \"bold\"), bg=\"#1E1E1E\", fg=\"#FF4081\")\n",
    "title_label.pack(pady=20)\n",
    "\n",
    "img_label = tk.Label(root, bg=\"#1E1E1E\")\n",
    "img_label.pack(pady=20)\n",
    "\n",
    "btn_upload = tk.Button(root, text=\"Upload Image\", command=predict_image, font=(\"Arial\", 16, \"bold\"), bg=\"#4CAF50\", fg=\"white\", padx=20, pady=10)\n",
    "btn_upload.pack(pady=20)\n",
    "\n",
    "result_label = tk.Label(root, text=\"\", font=(\"Arial\", 18, \"bold\"), bg=\"#1E1E1E\", fg=\"white\")\n",
    "result_label.pack(pady=20)\n",
    "\n",
    "btn_exit = tk.Button(root, text=\"Exit\", command=exit_app, font=(\"Arial\", 16, \"bold\"), bg=\"#FF5733\", fg=\"white\", padx=20, pady=10)\n",
    "btn_exit.pack(pady=20)\n",
    "\n",
    "root.mainloop()"
   ]
  },
  {
   "cell_type": "code",
   "execution_count": null,
   "id": "ce2c60d5-2007-4ddd-a29f-73c73a646ed8",
   "metadata": {},
   "outputs": [],
   "source": []
  },
  {
   "cell_type": "code",
   "execution_count": null,
   "id": "1bead0a3-6204-490c-8a10-71c822dc3d69",
   "metadata": {},
   "outputs": [],
   "source": []
  }
 ],
 "metadata": {
  "kernelspec": {
   "display_name": "Python 3 (ipykernel)",
   "language": "python",
   "name": "python3"
  },
  "language_info": {
   "codemirror_mode": {
    "name": "ipython",
    "version": 3
   },
   "file_extension": ".py",
   "mimetype": "text/x-python",
   "name": "python",
   "nbconvert_exporter": "python",
   "pygments_lexer": "ipython3",
   "version": "3.11.9"
  }
 },
 "nbformat": 4,
 "nbformat_minor": 5
}
